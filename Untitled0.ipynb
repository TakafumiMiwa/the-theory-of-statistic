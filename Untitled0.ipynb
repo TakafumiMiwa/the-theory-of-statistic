{
  "nbformat": 4,
  "nbformat_minor": 0,
  "metadata": {
    "colab": {
      "name": "Untitled0.ipynb",
      "version": "0.3.2",
      "provenance": [],
      "include_colab_link": true
    },
    "kernelspec": {
      "name": "python3",
      "display_name": "Python 3"
    },
    "accelerator": "GPU"
  },
  "cells": [
    {
      "cell_type": "markdown",
      "metadata": {
        "id": "view-in-github",
        "colab_type": "text"
      },
      "source": [
        "<a href=\"https://colab.research.google.com/github/miwatakafumi/the-theory-of-statistic/blob/master/Untitled0.ipynb\" target=\"_parent\"><img src=\"https://colab.research.google.com/assets/colab-badge.svg\" alt=\"Open In Colab\"/></a>"
      ]
    },
    {
      "cell_type": "code",
      "metadata": {
        "id": "G43qFuYQwo8h",
        "colab_type": "code",
        "colab": {}
      },
      "source": [
        "!curl https://colab.chainer.org/install | sh -"
      ],
      "execution_count": 0,
      "outputs": []
    },
    {
      "cell_type": "code",
      "metadata": {
        "id": "jcfjMpx-jNsG",
        "colab_type": "code",
        "colab": {}
      },
      "source": [
        "import matplotlib.pyplot as plt\n",
        "import numpy as np\n",
        "import cupy as cp\n",
        "import chainer\n",
        "from keras.datasets import mnist\n",
        "\n",
        "(X_train, y_train), (X_test, y_test) = mnist.load_data()\n",
        "\n",
        "X_train = X_train.astype('float32')\n",
        "y_train = y_train.astype('int32')\n",
        "X_test = X_test.astype('float32')\n",
        "y_test = y_test.astype('int32')\n",
        "\n",
        "\n",
        "\n",
        "import chainer.links as L\n",
        "import chainer.functions as F\n",
        "from chainer import Sequential\n",
        "\n",
        "# net としてインスタンス化\n",
        "n_input = 784\n",
        "n_hidden = 100\n",
        "n_output = 10\n",
        "\n",
        "net = Sequential(\n",
        "    L.Linear(n_input, n_hidden), F.relu,\n",
        "    L.Linear(n_hidden, n_hidden), F.relu,\n",
        "    L.Linear(n_hidden, n_output)\n",
        ")\n"
      ],
      "execution_count": 0,
      "outputs": []
    },
    {
      "cell_type": "code",
      "metadata": {
        "id": "CS_m2BGw0k_r",
        "colab_type": "code",
        "outputId": "d5632939-282f-47b1-f68c-200369461865",
        "colab": {
          "base_uri": "https://localhost:8080/",
          "height": 255
        }
      },
      "source": [
        "chainer.print_runtime_info()"
      ],
      "execution_count": 44,
      "outputs": [
        {
          "output_type": "stream",
          "text": [
            "Platform: Linux-4.14.79+-x86_64-with-Ubuntu-18.04-bionic\n",
            "Chainer: 5.4.0\n",
            "NumPy: 1.16.4\n",
            "CuPy:\n",
            "  CuPy Version          : 5.4.0\n",
            "  CUDA Root             : /usr/local/cuda\n",
            "  CUDA Build Version    : 10000\n",
            "  CUDA Driver Version   : 10000\n",
            "  CUDA Runtime Version  : 10000\n",
            "  cuDNN Build Version   : 7301\n",
            "  cuDNN Version         : 7301\n",
            "  NCCL Build Version    : 2402\n",
            "  NCCL Runtime Version  : 2402\n",
            "iDeep: 2.0.0.post3\n"
          ],
          "name": "stdout"
        }
      ]
    },
    {
      "cell_type": "code",
      "metadata": {
        "id": "6UsH_CgaiM87",
        "colab_type": "code",
        "colab": {}
      },
      "source": [
        "from sklearn.model_selection import train_test_split\n",
        "X_train, X_val, y_train, y_val = train_test_split(X_train, y_train, test_size=0.1, random_state=0)\n"
      ],
      "execution_count": 0,
      "outputs": []
    },
    {
      "cell_type": "code",
      "metadata": {
        "id": "7Ck8Y1edisMd",
        "colab_type": "code",
        "colab": {
          "base_uri": "https://localhost:8080/",
          "height": 34
        },
        "outputId": "2fd32161-9847-4671-dcc8-b0605fcd0940"
      },
      "source": [
        "X_train.shape\n",
        "net\n"
      ],
      "execution_count": 23,
      "outputs": [
        {
          "output_type": "execute_result",
          "data": {
            "text/plain": [
              "<chainer.sequential.Sequential at 0x7fa1838e4828>"
            ]
          },
          "metadata": {
            "tags": []
          },
          "execution_count": 23
        }
      ]
    },
    {
      "cell_type": "code",
      "metadata": {
        "id": "aMyz_bvezH2y",
        "colab_type": "code",
        "colab": {}
      },
      "source": [
        "optimizer = chainer.optimizers.SGD(lr=0.001)\n",
        "optimizer.setup(net)\n",
        "\n",
        "n_epoch = 30\n",
        "n_batchsize = 128\n"
      ],
      "execution_count": 0,
      "outputs": []
    },
    {
      "cell_type": "code",
      "metadata": {
        "id": "NjwHHPm15__T",
        "colab_type": "code",
        "outputId": "bc749387-c6f6-42df-afd2-870567d40dde",
        "colab": {
          "base_uri": "https://localhost:8080/",
          "height": 34
        }
      },
      "source": [
        "X_train.shape\n",
        "\n",
        "order = np.random.permutation(range(len(X_train)))\n",
        "order.shape"
      ],
      "execution_count": 28,
      "outputs": [
        {
          "output_type": "execute_result",
          "data": {
            "text/plain": [
              "(54000,)"
            ]
          },
          "metadata": {
            "tags": []
          },
          "execution_count": 28
        }
      ]
    },
    {
      "cell_type": "code",
      "metadata": {
        "id": "-Q0HzXFT3cdi",
        "colab_type": "code",
        "colab": {
          "base_uri": "https://localhost:8080/",
          "height": 527
        },
        "outputId": "205401fc-6780-4571-c055-1515d1ea0a3c"
      },
      "source": [
        "iteration = 0\n",
        "\n",
        "# ログの保存用\n",
        "results_train = {\n",
        "    'loss': [],\n",
        "    'accuracy': []\n",
        "}\n",
        "results_valid = {\n",
        "    'loss': [],\n",
        "    'accuracy': []\n",
        "}\n",
        "\n",
        "for epoch in range(n_epoch):\n",
        "\n",
        "    # データセット並べ替えた順番を取得\n",
        "    order = np.random.permutation(range(len(X_train)))\n",
        "\n",
        "    # 各バッチ毎の目的関数の出力と分類精度の保存用\n",
        "    loss_list = []\n",
        "    accuracy_list = []\n",
        "\n",
        "    for i in range(0, len(order), n_batchsize):\n",
        "        # バッチを準備\n",
        "        index = order[i:i+n_batchsize]\n",
        "        X_train_batch = X_train[index,:]\n",
        "        y_train_batch = y_train[index]\n",
        "\n",
        "        # 予測値を出力\n",
        "        z_train_batch = net(X_train_batch)\n",
        "\n",
        "        # 目的関数を適用し、分類精度を計算\n",
        "        loss_train_batch = F.softmax_cross_entropy(z_train_batch, y_train_batch)\n",
        "        accuracy_train_batch = F.accuracy(z_train_batch, y_train_batch)\n",
        "\n",
        "        loss_list.append(loss_train_batch.array)\n",
        "        accuracy_list.append(accuracy_train_batch.array)\n",
        "\n",
        "        # 勾配のリセットと勾配の計算\n",
        "        net.cleargrads()\n",
        "        loss_train_batch.backward()\n",
        "\n",
        "        # パラメータの更新\n",
        "        optimizer.update()\n",
        "\n",
        "        # カウントアップ\n",
        "        iteration += 1\n",
        "\n",
        "    # 訓練データに対する目的関数の出力と分類精度を集計\n",
        "    loss_train = np.mean(loss_list)\n",
        "    accuracy_train = np.mean(accuracy_list)\n",
        "\n",
        "    # 1エポック終えたら、検証データで評価\n",
        "    # 検証データで予測値を出力\n",
        "    with chainer.using_config('train', False), chainer.using_config('enable_backprop', False):\n",
        "        z_val = net(X_val)\n",
        "\n",
        "    # 目的関数を適用し、分類精度を計算\n",
        "    loss_val = F.softmax_cross_entropy(z_val, y_val)\n",
        "    accuracy_val = F.accuracy(z_val, y_val)\n",
        "\n",
        "    # 結果の表示\n",
        "    print('epoch: {}, iteration: {}, loss (train): {:.4f}, loss (valid): {:.4f}'.format(\n",
        "        epoch, iteration, loss_train, loss_val.array))\n",
        "\n",
        "    # ログを保存\n",
        "    results_train['loss'] .append(loss_train)\n",
        "    results_train['accuracy'] .append(accuracy_train)\n",
        "    results_valid['loss'].append(loss_val.array)\n",
        "    results_valid['accuracy'].append(accuracy_val.array)\n"
      ],
      "execution_count": 53,
      "outputs": [
        {
          "output_type": "stream",
          "text": [
            "epoch: 0, iteration: 422, loss (train): 1.7368, loss (valid): 0.6362\n",
            "epoch: 1, iteration: 844, loss (train): 0.5224, loss (valid): 0.4459\n",
            "epoch: 2, iteration: 1266, loss (train): 0.3792, loss (valid): 0.3752\n",
            "epoch: 3, iteration: 1688, loss (train): 0.3083, loss (valid): 0.3324\n",
            "epoch: 4, iteration: 2110, loss (train): 0.2614, loss (valid): 0.3112\n",
            "epoch: 5, iteration: 2532, loss (train): 0.2320, loss (valid): 0.2924\n",
            "epoch: 6, iteration: 2954, loss (train): 0.2079, loss (valid): 0.2657\n",
            "epoch: 7, iteration: 3376, loss (train): 0.1882, loss (valid): 0.2729\n",
            "epoch: 8, iteration: 3798, loss (train): 0.1737, loss (valid): 0.2568\n",
            "epoch: 9, iteration: 4220, loss (train): 0.1601, loss (valid): 0.2453\n",
            "epoch: 10, iteration: 4642, loss (train): 0.1498, loss (valid): 0.2391\n",
            "epoch: 11, iteration: 5064, loss (train): 0.1399, loss (valid): 0.2277\n",
            "epoch: 12, iteration: 5486, loss (train): 0.1315, loss (valid): 0.2218\n",
            "epoch: 13, iteration: 5908, loss (train): 0.1241, loss (valid): 0.2184\n",
            "epoch: 14, iteration: 6330, loss (train): 0.1174, loss (valid): 0.2138\n",
            "epoch: 15, iteration: 6752, loss (train): 0.1118, loss (valid): 0.2085\n",
            "epoch: 16, iteration: 7174, loss (train): 0.1056, loss (valid): 0.2066\n",
            "epoch: 17, iteration: 7596, loss (train): 0.1013, loss (valid): 0.2052\n",
            "epoch: 18, iteration: 8018, loss (train): 0.0967, loss (valid): 0.2080\n",
            "epoch: 19, iteration: 8440, loss (train): 0.0928, loss (valid): 0.2015\n",
            "epoch: 20, iteration: 8862, loss (train): 0.0892, loss (valid): 0.1984\n",
            "epoch: 21, iteration: 9284, loss (train): 0.0854, loss (valid): 0.1952\n",
            "epoch: 22, iteration: 9706, loss (train): 0.0823, loss (valid): 0.1938\n",
            "epoch: 23, iteration: 10128, loss (train): 0.0791, loss (valid): 0.1922\n",
            "epoch: 24, iteration: 10550, loss (train): 0.0757, loss (valid): 0.1920\n",
            "epoch: 25, iteration: 10972, loss (train): 0.0734, loss (valid): 0.1926\n",
            "epoch: 26, iteration: 11394, loss (train): 0.0704, loss (valid): 0.1922\n",
            "epoch: 27, iteration: 11816, loss (train): 0.0679, loss (valid): 0.1894\n",
            "epoch: 28, iteration: 12238, loss (train): 0.0659, loss (valid): 0.1882\n",
            "epoch: 29, iteration: 12660, loss (train): 0.0640, loss (valid): 0.1862\n"
          ],
          "name": "stdout"
        }
      ]
    },
    {
      "cell_type": "code",
      "metadata": {
        "id": "CRbfaWws3fiz",
        "colab_type": "code",
        "colab": {
          "base_uri": "https://localhost:8080/",
          "height": 34
        },
        "outputId": "8b85b0a9-cd36-48da-8900-ecb6b6d5d5c7"
      },
      "source": [
        "X_val.shape\n",
        "z_val.shape"
      ],
      "execution_count": 35,
      "outputs": [
        {
          "output_type": "execute_result",
          "data": {
            "text/plain": [
              "(6000, 10)"
            ]
          },
          "metadata": {
            "tags": []
          },
          "execution_count": 35
        }
      ]
    },
    {
      "cell_type": "code",
      "metadata": {
        "id": "EyGXhZK0oyw_",
        "colab_type": "code",
        "colab": {
          "base_uri": "https://localhost:8080/",
          "height": 34
        },
        "outputId": "00be3567-b180-4104-b8ba-8168a6b8d3d3"
      },
      "source": [
        "accuracy_val"
      ],
      "execution_count": 56,
      "outputs": [
        {
          "output_type": "execute_result",
          "data": {
            "text/plain": [
              "variable(0.954)"
            ]
          },
          "metadata": {
            "tags": []
          },
          "execution_count": 56
        }
      ]
    },
    {
      "cell_type": "code",
      "metadata": {
        "id": "FfWhwSU13ymj",
        "colab_type": "code",
        "colab": {
          "base_uri": "https://localhost:8080/",
          "height": 34
        },
        "outputId": "0d6016ac-9b7b-4781-fe90-00cb6ade3e62"
      },
      "source": [
        "y_val[0]"
      ],
      "execution_count": 40,
      "outputs": [
        {
          "output_type": "execute_result",
          "data": {
            "text/plain": [
              "3"
            ]
          },
          "metadata": {
            "tags": []
          },
          "execution_count": 40
        }
      ]
    },
    {
      "cell_type": "code",
      "metadata": {
        "id": "qsO7Iuoz3331",
        "colab_type": "code",
        "colab": {
          "base_uri": "https://localhost:8080/",
          "height": 561
        },
        "outputId": "5dc40dee-c4aa-47b8-db08-6a841d808d8f"
      },
      "source": [
        "import chainer\n",
        "\n",
        "from sklearn.datasets import load_iris\n",
        "\n",
        "# Iris データセットの読み込み\n",
        "x, t = load_iris(return_X_y=True)\n",
        "\n",
        "print('x:', x.shape)\n",
        "print('t:', t.shape)\n",
        "\n",
        "# それぞれデータ型を変換\n",
        "x = x.astype('float32')\n",
        "t = t.astype('int32')\n",
        "\n",
        "\n",
        "# データセットを分割するモジュールの読み込み\n",
        "from sklearn.model_selection import train_test_split\n",
        "\n",
        "x_train_val, x_test, t_train_val, t_test = train_test_split(x, t, test_size=0.3, random_state=0)\n",
        "x_train, x_val, t_train, t_val = train_test_split(x_train_val, t_train_val, test_size=0.3, random_state=0)\n",
        "\n",
        "\n",
        "import chainer.links as L\n",
        "import chainer.functions as F\n",
        "\n",
        "# 入力次元数が 3、出力次元数が 2 の全結合層\n",
        "l = L.Linear(3, 2)\n",
        "\n",
        "from chainer import Sequential\n",
        "\n",
        "# net としてインスタンス化\n",
        "n_input = 4\n",
        "n_hidden = 10\n",
        "n_output = 3\n",
        "\n",
        "net = Sequential(\n",
        "    L.Linear(n_input, n_hidden), F.relu,\n",
        "    L.Linear(n_hidden, n_hidden), F.relu,\n",
        "    L.Linear(n_hidden, n_output)\n",
        ")\n",
        "\n",
        "optimizer = chainer.optimizers.SGD(lr=0.01)\n",
        "\n",
        "optimizer.setup(net)\n",
        "\n",
        "n_epoch = 30\n",
        "n_batchsize = 16\n",
        "\n",
        "import numpy as np\n",
        "\n",
        "iteration = 0\n",
        "\n",
        "# ログの保存用\n",
        "results_train = {\n",
        "    'loss': [],\n",
        "    'accuracy': []\n",
        "}\n",
        "results_valid = {\n",
        "    'loss': [],\n",
        "    'accuracy': []\n",
        "}\n",
        "\n",
        "\n",
        "for epoch in range(n_epoch):\n",
        "\n",
        "    # データセット並べ替えた順番を取得\n",
        "    order = np.random.permutation(range(len(x_train)))\n",
        "\n",
        "    # 各バッチ毎の目的関数の出力と分類精度の保存用\n",
        "    loss_list = []\n",
        "    accuracy_list = []\n",
        "\n",
        "    for i in range(0, len(order), n_batchsize):\n",
        "        # バッチを準備\n",
        "        index = order[i:i+n_batchsize]\n",
        "        x_train_batch = x_train[index,:]\n",
        "        t_train_batch = t_train[index]\n",
        "\n",
        "        # 予測値を出力\n",
        "        y_train_batch = net(x_train_batch)\n",
        "\n",
        "        # 目的関数を適用し、分類精度を計算\n",
        "        loss_train_batch = F.softmax_cross_entropy(y_train_batch, t_train_batch)\n",
        "        accuracy_train_batch = F.accuracy(y_train_batch, t_train_batch)\n",
        "\n",
        "        loss_list.append(loss_train_batch.array)\n",
        "        accuracy_list.append(accuracy_train_batch.array)\n",
        "\n",
        "        # 勾配のリセットと勾配の計算\n",
        "        net.cleargrads()\n",
        "        loss_train_batch.backward()\n",
        "\n",
        "        # パラメータの更新\n",
        "        optimizer.update()\n",
        "\n",
        "        # カウントアップ\n",
        "        iteration += 1\n",
        "\n",
        "    # 訓練データに対する目的関数の出力と分類精度を集計\n",
        "    loss_train = np.mean(loss_list)\n",
        "    accuracy_train = np.mean(accuracy_list)\n",
        "\n",
        "    # 1エポック終えたら、検証データで評価\n",
        "    # 検証データで予測値を出力\n",
        "    with chainer.using_config('train', False), chainer.using_config('enable_backprop', False):\n",
        "        y_val = net(x_val)\n",
        "\n",
        "    # 目的関数を適用し、分類精度を計算\n",
        "    loss_val = F.softmax_cross_entropy(y_val, t_val)\n",
        "    accuracy_val = F.accuracy(y_val, t_val)\n",
        "\n",
        "    # 結果の表示\n",
        "    print('epoch: {}, iteration: {}, loss (train): {:.4f}, loss (valid): {:.4f}'.format(\n",
        "        epoch, iteration, loss_train, loss_val.array))\n",
        "\n",
        "    # ログを保存\n",
        "    results_train['loss'] .append(loss_train)\n",
        "    results_train['accuracy'] .append(accuracy_train)\n",
        "    results_valid['loss'].append(loss_val.array)\n",
        "    results_valid['accuracy'].append(accuracy_val.array)"
      ],
      "execution_count": 41,
      "outputs": [
        {
          "output_type": "stream",
          "text": [
            "x: (150, 4)\n",
            "t: (150,)\n",
            "epoch: 0, iteration: 5, loss (train): 1.5647, loss (valid): 0.9989\n",
            "epoch: 1, iteration: 10, loss (train): 0.9728, loss (valid): 0.9801\n",
            "epoch: 2, iteration: 15, loss (train): 0.8991, loss (valid): 0.9571\n",
            "epoch: 3, iteration: 20, loss (train): 0.8773, loss (valid): 0.8789\n",
            "epoch: 4, iteration: 25, loss (train): 0.8421, loss (valid): 0.8687\n",
            "epoch: 5, iteration: 30, loss (train): 0.7978, loss (valid): 0.8164\n",
            "epoch: 6, iteration: 35, loss (train): 0.7811, loss (valid): 0.7788\n",
            "epoch: 7, iteration: 40, loss (train): 0.7510, loss (valid): 0.7334\n",
            "epoch: 8, iteration: 45, loss (train): 0.7318, loss (valid): 0.6838\n",
            "epoch: 9, iteration: 50, loss (train): 0.6931, loss (valid): 0.6575\n",
            "epoch: 10, iteration: 55, loss (train): 0.6616, loss (valid): 0.6039\n",
            "epoch: 11, iteration: 60, loss (train): 0.6097, loss (valid): 0.6180\n",
            "epoch: 12, iteration: 65, loss (train): 0.6061, loss (valid): 0.5374\n",
            "epoch: 13, iteration: 70, loss (train): 0.5930, loss (valid): 0.5281\n",
            "epoch: 14, iteration: 75, loss (train): 0.5537, loss (valid): 0.4937\n",
            "epoch: 15, iteration: 80, loss (train): 0.5455, loss (valid): 0.4851\n",
            "epoch: 16, iteration: 85, loss (train): 0.5264, loss (valid): 0.4658\n",
            "epoch: 17, iteration: 90, loss (train): 0.4956, loss (valid): 0.4386\n",
            "epoch: 18, iteration: 95, loss (train): 0.5238, loss (valid): 0.4817\n",
            "epoch: 19, iteration: 100, loss (train): 0.5019, loss (valid): 0.4072\n",
            "epoch: 20, iteration: 105, loss (train): 0.4683, loss (valid): 0.4116\n",
            "epoch: 21, iteration: 110, loss (train): 0.4587, loss (valid): 0.4306\n",
            "epoch: 22, iteration: 115, loss (train): 0.4750, loss (valid): 0.3714\n",
            "epoch: 23, iteration: 120, loss (train): 0.4249, loss (valid): 0.3699\n",
            "epoch: 24, iteration: 125, loss (train): 0.4223, loss (valid): 0.3601\n",
            "epoch: 25, iteration: 130, loss (train): 0.4068, loss (valid): 0.3404\n",
            "epoch: 26, iteration: 135, loss (train): 0.4027, loss (valid): 0.3454\n",
            "epoch: 27, iteration: 140, loss (train): 0.4011, loss (valid): 0.3259\n",
            "epoch: 28, iteration: 145, loss (train): 0.4326, loss (valid): 0.4806\n",
            "epoch: 29, iteration: 150, loss (train): 0.4245, loss (valid): 0.3228\n"
          ],
          "name": "stdout"
        }
      ]
    },
    {
      "cell_type": "code",
      "metadata": {
        "id": "0Xc3nEYinCjl",
        "colab_type": "code",
        "colab": {
          "base_uri": "https://localhost:8080/",
          "height": 286
        },
        "outputId": "2000be0a-ddfd-44e3-92db-9195f15575dd"
      },
      "source": [
        "%matplotlib inline\n",
        "import matplotlib.pyplot as plt\n",
        "\n",
        "# 目的関数の出力 (loss)\n",
        "plt.plot(results_train['loss'], label='train')  # label で凡例の設定\n",
        "plt.plot(results_valid['loss'], label='valid')  # label で凡例の設定\n",
        "plt.legend()  # 凡例の表示"
      ],
      "execution_count": 49,
      "outputs": [
        {
          "output_type": "execute_result",
          "data": {
            "text/plain": [
              "<matplotlib.legend.Legend at 0x7fa1807c8b38>"
            ]
          },
          "metadata": {
            "tags": []
          },
          "execution_count": 49
        },
        {
          "output_type": "display_data",
          "data": {
            "image/png": "[encoded data removed]",
            "text/plain": [
              "<Figure size 432x288 with 1 Axes>"
            ]
          },
          "metadata": {
            "tags": []
          }
        }
      ]
    }
  ]
}